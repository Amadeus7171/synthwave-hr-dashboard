{
 "cells": [
  {
   "cell_type": "code",
   "execution_count": null,
   "id": "f981aa5e",
   "metadata": {
    "vscode": {
     "languageId": "plaintext"
    }
   },
   "outputs": [],
   "source": [
    "import pandas as pd\n",
    "import matplotlib.pyplot as plt\n",
    "import pyodbc\n",
    "\n",
    "# Connect to your local SQL Server\n",
    "conn = pyodbc.connect('DRIVER={SQL Server};SERVER=localhost;DATABASE=synthwave_db;Trusted_Connection=yes;')\n"
   ]
  },
  {
   "cell_type": "code",
   "execution_count": null,
   "id": "00e5a86e",
   "metadata": {
    "vscode": {
     "languageId": "plaintext"
    }
   },
   "outputs": [],
   "source": [
    "query = \"\"\"\n",
    "SELECT\n",
    "  CASE\n",
    "    WHEN Salary < 50000 THEN 'Junior'\n",
    "    WHEN Salary BETWEEN 50000 AND 65000 THEN 'Mid-Level'\n",
    "    ELSE 'Senior'\n",
    "  END AS SalaryTier,\n",
    "  COUNT(*) AS EmployeeCount\n",
    "FROM EmployeeSalary\n",
    "GROUP BY \n",
    "  CASE\n",
    "    WHEN Salary < 50000 THEN 'Junior'\n",
    "    WHEN Salary BETWEEN 50000 AND 65000 THEN 'Mid-Level'\n",
    "    ELSE 'Senior'\n",
    "  END\n",
    "\"\"\"\n",
    "\n",
    "df = pd.read_sql(query, conn)\n",
    "df\n"
   ]
  },
  {
   "cell_type": "code",
   "execution_count": null,
   "id": "075c69dd",
   "metadata": {
    "vscode": {
     "languageId": "plaintext"
    }
   },
   "outputs": [],
   "source": [
    "colors = ['#FF69B4', '#87CEFA', '#9370DB']\n",
    "\n",
    "df.plot(kind='pie', y='EmployeeCount', labels=df['SalaryTier'],\n",
    "        autopct='%1.1f%%', colors=colors, figsize=(6,6), legend=False)\n",
    "\n",
    "plt.title('Employee Distribution by Salary Tier', fontsize=14)\n",
    "plt.ylabel('')\n",
    "plt.tight_layout()\n",
    "plt.show()\n"
   ]
  }
 ],
 "metadata": {
  "language_info": {
   "name": "python"
  }
 },
 "nbformat": 4,
 "nbformat_minor": 5
}
